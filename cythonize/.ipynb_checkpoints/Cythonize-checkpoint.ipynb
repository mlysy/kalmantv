{
 "cells": [
  {
   "cell_type": "code",
   "execution_count": 1,
   "metadata": {},
   "outputs": [],
   "source": [
    "import numpy as np\n",
    "import matplotlib.pyplot as plt\n",
    "from probDE.utils.utils import zero_pad\n",
    "from probDE.utils.utils import root_gen\n",
    "from probDE.Kalman.kalman_initial_draw import kalman_initial_draw\n",
    "from probDE.Kalman import kalman_ode_higher\n",
    "from probDE.Kalman.higher_mvncond import higher_mvncond\n",
    "from kalman_ode_higher_cy import kalman_ode_higher as kalman_ode_higher_cy"
   ]
  },
  {
   "cell_type": "code",
   "execution_count": 2,
   "metadata": {},
   "outputs": [],
   "source": [
    "%load_ext Cython"
   ]
  },
  {
   "cell_type": "code",
   "execution_count": 3,
   "metadata": {},
   "outputs": [],
   "source": [
    "%%cython\n",
    "from math import sin, cos\n",
    "import numpy as np\n",
    "cimport numpy as np\n",
    "def ode_fun(np.ndarray[np.double_t, ndim=1] x_t, double t):\n",
    "    return sin(2*t) - x_t[0]"
   ]
  },
  {
   "cell_type": "code",
   "execution_count": 4,
   "metadata": {},
   "outputs": [],
   "source": [
    "def chk_exact_x(t):\n",
    "    return (-3*cos(t) + 2*sin(t) - sin(2*t))/3\n",
    "\n",
    "def chk_exact_x1(t):\n",
    "    return (-2*cos(2*t) + 3*sin(t) + 2*cos(t))/3"
   ]
  },
  {
   "cell_type": "code",
   "execution_count": 5,
   "metadata": {},
   "outputs": [],
   "source": [
    "N = 50\n",
    "q = 2\n",
    "p = q+2\n",
    "tmin = 0\n",
    "tmax = 10\n",
    "delta_t = np.array([(tmax-tmin)*1/N])\n",
    "w = np.array([0. , 0., 1.])\n",
    "wgt_meas = zero_pad(w, p)\n",
    "x0 = np.array([-1., 0., 0.])\n",
    "x0 = np.array([-1.0, 0.0, ode_fun(x0, 0)]) #Initial state\n",
    "r0 = 500\n",
    "sigma = 0.5\n",
    "roots = root_gen(r0, p) #Generate roots to draw x^{(3)}_0\n",
    "x_0 = kalman_initial_draw(roots, sigma, x0, p)\n",
    "wgt_state, var_state = higher_mvncond(delta_t, roots, sigma) \n",
    "mu_state = np.zeros(p)\n",
    "\n",
    "Yn, Yn_chk_mean, Yn_chk_var = kalman_ode_higher(ode_fun, x_0, tmin, tmax, N-1, wgt_state, mu_state, var_state, wgt_meas)"
   ]
  },
  {
   "cell_type": "code",
   "execution_count": 58,
   "metadata": {},
   "outputs": [],
   "source": [
    "def rand_mat(n, p=None, pd=True):\n",
    "    \"\"\"Generate a random matrix, positive definite if `pd = True`.\"\"\"\n",
    "    if p is None:\n",
    "        p = n\n",
    "    V = np.zeros((p, n), order='F')\n",
    "    V[:] = np.random.randn(p, n)\n",
    "    if (p == n) & pd:\n",
    "        V[:] = np.matmul(V, V.T)\n",
    "    return V"
   ]
  },
  {
   "cell_type": "code",
   "execution_count": null,
   "metadata": {},
   "outputs": [],
   "source": [
    "z_state_sim = rand_mat(2*N, p)"
   ]
  },
  {
   "cell_type": "code",
   "execution_count": 59,
   "metadata": {},
   "outputs": [
    {
     "name": "stdout",
     "output_type": "stream",
     "text": [
      "12.9 µs ± 78.5 ns per loop (mean ± std. dev. of 7 runs, 100000 loops each)\n"
     ]
    }
   ],
   "source": [
    "%timeit rand_mat(2*N, p)"
   ]
  },
  {
   "cell_type": "code",
   "execution_count": 87,
   "metadata": {},
   "outputs": [
    {
     "name": "stderr",
     "output_type": "stream",
     "text": [
      "\n",
      "Error compiling Cython file:\n",
      "------------------------------------------------------------\n",
      "...\n",
      "import numpy.random\n",
      "cimport numpy.random\n",
      "       ^\n",
      "------------------------------------------------------------\n",
      "\n",
      "C:\\Users\\mohan\\.ipython\\cython\\_cython_magic_2b1b6e5484eb9bf6a2748dd0f3e4c9e4.pyx:2:8: 'numpy\\random.pxd' not found\n",
      "\n",
      "Error compiling Cython file:\n",
      "------------------------------------------------------------\n",
      "...\n",
      "import numpy.random\n",
      "cimport numpy.random\n",
      "cdef bint boolean_variable = True\n",
      "\n",
      "def rand_mat2(int n, int p, bint pd):\n",
      "    V = np.zeros((p, n), order='F')\n",
      "       ^\n",
      "------------------------------------------------------------\n",
      "\n",
      "C:\\Users\\mohan\\.ipython\\cython\\_cython_magic_2b1b6e5484eb9bf6a2748dd0f3e4c9e4.pyx:6:8: undeclared name not builtin: np\n"
     ]
    },
    {
     "ename": "TypeError",
     "evalue": "object of type 'NoneType' has no len()",
     "output_type": "error",
     "traceback": [
      "\u001b[1;31m---------------------------------------------------------------------------\u001b[0m",
      "\u001b[1;31mTypeError\u001b[0m                                 Traceback (most recent call last)",
      "\u001b[1;32m<ipython-input-87-2110c9645afb>\u001b[0m in \u001b[0;36m<module>\u001b[1;34m\u001b[0m\n\u001b[1;32m----> 1\u001b[1;33m \u001b[0mget_ipython\u001b[0m\u001b[1;33m(\u001b[0m\u001b[1;33m)\u001b[0m\u001b[1;33m.\u001b[0m\u001b[0mrun_cell_magic\u001b[0m\u001b[1;33m(\u001b[0m\u001b[1;34m'cython'\u001b[0m\u001b[1;33m,\u001b[0m \u001b[1;34m''\u001b[0m\u001b[1;33m,\u001b[0m \u001b[1;34m\"import numpy.random\\ncimport numpy.random\\ncdef bint boolean_variable = True\\n\\ndef rand_mat2(int n, int p, bint pd):\\n    V = np.zeros((p, n), order='F')\\n    V[:] = numpy.random.randn(p, n)\\n    ##if (p == n) and pd:\\n    ##    V[:] = np.matmul(V, V.T)\\n    return V\\n\"\u001b[0m\u001b[1;33m)\u001b[0m\u001b[1;33m\u001b[0m\u001b[1;33m\u001b[0m\u001b[0m\n\u001b[0m",
      "\u001b[1;32m~\\Anaconda3\\lib\\site-packages\\IPython\\core\\interactiveshell.py\u001b[0m in \u001b[0;36mrun_cell_magic\u001b[1;34m(self, magic_name, line, cell)\u001b[0m\n\u001b[0;32m   2350\u001b[0m             \u001b[1;32mwith\u001b[0m \u001b[0mself\u001b[0m\u001b[1;33m.\u001b[0m\u001b[0mbuiltin_trap\u001b[0m\u001b[1;33m:\u001b[0m\u001b[1;33m\u001b[0m\u001b[1;33m\u001b[0m\u001b[0m\n\u001b[0;32m   2351\u001b[0m                 \u001b[0margs\u001b[0m \u001b[1;33m=\u001b[0m \u001b[1;33m(\u001b[0m\u001b[0mmagic_arg_s\u001b[0m\u001b[1;33m,\u001b[0m \u001b[0mcell\u001b[0m\u001b[1;33m)\u001b[0m\u001b[1;33m\u001b[0m\u001b[1;33m\u001b[0m\u001b[0m\n\u001b[1;32m-> 2352\u001b[1;33m                 \u001b[0mresult\u001b[0m \u001b[1;33m=\u001b[0m \u001b[0mfn\u001b[0m\u001b[1;33m(\u001b[0m\u001b[1;33m*\u001b[0m\u001b[0margs\u001b[0m\u001b[1;33m,\u001b[0m \u001b[1;33m**\u001b[0m\u001b[0mkwargs\u001b[0m\u001b[1;33m)\u001b[0m\u001b[1;33m\u001b[0m\u001b[1;33m\u001b[0m\u001b[0m\n\u001b[0m\u001b[0;32m   2353\u001b[0m             \u001b[1;32mreturn\u001b[0m \u001b[0mresult\u001b[0m\u001b[1;33m\u001b[0m\u001b[1;33m\u001b[0m\u001b[0m\n\u001b[0;32m   2354\u001b[0m \u001b[1;33m\u001b[0m\u001b[0m\n",
      "\u001b[1;32m<C:\\Users\\mohan\\Anaconda3\\lib\\site-packages\\decorator.py:decorator-gen-129>\u001b[0m in \u001b[0;36mcython\u001b[1;34m(self, line, cell)\u001b[0m\n",
      "\u001b[1;32m~\\Anaconda3\\lib\\site-packages\\IPython\\core\\magic.py\u001b[0m in \u001b[0;36m<lambda>\u001b[1;34m(f, *a, **k)\u001b[0m\n\u001b[0;32m    185\u001b[0m     \u001b[1;31m# but it's overkill for just that one bit of state.\u001b[0m\u001b[1;33m\u001b[0m\u001b[1;33m\u001b[0m\u001b[1;33m\u001b[0m\u001b[0m\n\u001b[0;32m    186\u001b[0m     \u001b[1;32mdef\u001b[0m \u001b[0mmagic_deco\u001b[0m\u001b[1;33m(\u001b[0m\u001b[0marg\u001b[0m\u001b[1;33m)\u001b[0m\u001b[1;33m:\u001b[0m\u001b[1;33m\u001b[0m\u001b[1;33m\u001b[0m\u001b[0m\n\u001b[1;32m--> 187\u001b[1;33m         \u001b[0mcall\u001b[0m \u001b[1;33m=\u001b[0m \u001b[1;32mlambda\u001b[0m \u001b[0mf\u001b[0m\u001b[1;33m,\u001b[0m \u001b[1;33m*\u001b[0m\u001b[0ma\u001b[0m\u001b[1;33m,\u001b[0m \u001b[1;33m**\u001b[0m\u001b[0mk\u001b[0m\u001b[1;33m:\u001b[0m \u001b[0mf\u001b[0m\u001b[1;33m(\u001b[0m\u001b[1;33m*\u001b[0m\u001b[0ma\u001b[0m\u001b[1;33m,\u001b[0m \u001b[1;33m**\u001b[0m\u001b[0mk\u001b[0m\u001b[1;33m)\u001b[0m\u001b[1;33m\u001b[0m\u001b[1;33m\u001b[0m\u001b[0m\n\u001b[0m\u001b[0;32m    188\u001b[0m \u001b[1;33m\u001b[0m\u001b[0m\n\u001b[0;32m    189\u001b[0m         \u001b[1;32mif\u001b[0m \u001b[0mcallable\u001b[0m\u001b[1;33m(\u001b[0m\u001b[0marg\u001b[0m\u001b[1;33m)\u001b[0m\u001b[1;33m:\u001b[0m\u001b[1;33m\u001b[0m\u001b[1;33m\u001b[0m\u001b[0m\n",
      "\u001b[1;32m~\\Anaconda3\\lib\\site-packages\\Cython\\Build\\IpythonMagic.py\u001b[0m in \u001b[0;36mcython\u001b[1;34m(self, line, cell)\u001b[0m\n\u001b[0;32m    323\u001b[0m         \u001b[1;32mif\u001b[0m \u001b[0mneed_cythonize\u001b[0m\u001b[1;33m:\u001b[0m\u001b[1;33m\u001b[0m\u001b[1;33m\u001b[0m\u001b[0m\n\u001b[0;32m    324\u001b[0m             \u001b[0mextensions\u001b[0m \u001b[1;33m=\u001b[0m \u001b[0mself\u001b[0m\u001b[1;33m.\u001b[0m\u001b[0m_cythonize\u001b[0m\u001b[1;33m(\u001b[0m\u001b[0mmodule_name\u001b[0m\u001b[1;33m,\u001b[0m \u001b[0mcode\u001b[0m\u001b[1;33m,\u001b[0m \u001b[0mlib_dir\u001b[0m\u001b[1;33m,\u001b[0m \u001b[0margs\u001b[0m\u001b[1;33m,\u001b[0m \u001b[0mquiet\u001b[0m\u001b[1;33m=\u001b[0m\u001b[0margs\u001b[0m\u001b[1;33m.\u001b[0m\u001b[0mquiet\u001b[0m\u001b[1;33m)\u001b[0m\u001b[1;33m\u001b[0m\u001b[1;33m\u001b[0m\u001b[0m\n\u001b[1;32m--> 325\u001b[1;33m             \u001b[1;32massert\u001b[0m \u001b[0mlen\u001b[0m\u001b[1;33m(\u001b[0m\u001b[0mextensions\u001b[0m\u001b[1;33m)\u001b[0m \u001b[1;33m==\u001b[0m \u001b[1;36m1\u001b[0m\u001b[1;33m\u001b[0m\u001b[1;33m\u001b[0m\u001b[0m\n\u001b[0m\u001b[0;32m    326\u001b[0m             \u001b[0mextension\u001b[0m \u001b[1;33m=\u001b[0m \u001b[0mextensions\u001b[0m\u001b[1;33m[\u001b[0m\u001b[1;36m0\u001b[0m\u001b[1;33m]\u001b[0m\u001b[1;33m\u001b[0m\u001b[1;33m\u001b[0m\u001b[0m\n\u001b[0;32m    327\u001b[0m             \u001b[0mself\u001b[0m\u001b[1;33m.\u001b[0m\u001b[0m_code_cache\u001b[0m\u001b[1;33m[\u001b[0m\u001b[0mkey\u001b[0m\u001b[1;33m]\u001b[0m \u001b[1;33m=\u001b[0m \u001b[0mmodule_name\u001b[0m\u001b[1;33m\u001b[0m\u001b[1;33m\u001b[0m\u001b[0m\n",
      "\u001b[1;31mTypeError\u001b[0m: object of type 'NoneType' has no len()"
     ]
    }
   ],
   "source": [
    "%%cython\n",
    "import numpy.random\n",
    "cimport numpy.random\n",
    "cdef bint boolean_variable = True\n",
    "\n",
    "def rand_mat2(int n, int p, bint pd):\n",
    "    V = np.zeros((p, n), order='F')\n",
    "    V[:] = numpy.random.randn(p, n)\n",
    "    ##if (p == n) and pd:\n",
    "    ##    V[:] = np.matmul(V, V.T)\n",
    "    return V"
   ]
  },
  {
   "cell_type": "code",
   "execution_count": 79,
   "metadata": {},
   "outputs": [
    {
     "name": "stdout",
     "output_type": "stream",
     "text": [
      "13.5 µs ± 95.5 ns per loop (mean ± std. dev. of 7 runs, 100000 loops each)\n"
     ]
    }
   ],
   "source": [
    "%timeit rand_mat2(2*N, p, True)"
   ]
  },
  {
   "cell_type": "code",
   "execution_count": 68,
   "metadata": {},
   "outputs": [],
   "source": [
    "%%cython\n",
    "cimport cython\n",
    "import numpy as np\n",
    "cimport numpy as np\n",
    "from kalmantv.cython import KalmanTV\n",
    "\n",
    "@cython.boundscheck(False)\n",
    "@cython.wraparound(False)\n",
    "@cython.nonecheck(False)\n",
    "def kalman_ode_higher_cy(fun, np.ndarray[np.double_t, ndim=1] x0_state, double tmin, double tmax, int n_eval, \n",
    "                         np.ndarray[np.double_t, ndim=2] wgt_state, np.ndarray[np.double_t, ndim=1] mu_state, \n",
    "                         np.ndarray[np.double_t, ndim=2] var_state, np.ndarray[np.double_t, ndim=2] wgt_meas, \n",
    "                         np.ndarray[np.double_t, ndim=2] z_state_sim):\n",
    "    # Dimensions of state and measure variables\n",
    "    cdef int n_dim_meas = wgt_meas.shape[0]\n",
    "    cdef int n_dim_state = len(mu_state)\n",
    "    cdef int n_timesteps = n_eval + 1\n",
    "\n",
    "    # argumgents for kalman_filter and kalman_smooth\n",
    "    cdef np.ndarray[np.double_t, ndim=1, negative_indices=False] mu_meas = np.zeros(n_dim_meas)\n",
    "    cdef np.ndarray[np.double_t, ndim=3, negative_indices=False] var_meass = np.zeros((n_dim_meas, n_dim_meas, n_timesteps), order='F')\n",
    "    cdef np.ndarray[np.double_t, ndim=2, negative_indices=False] x_meass = np.zeros((n_dim_meas, n_timesteps))\n",
    "    cdef np.ndarray[np.double_t, ndim=2, negative_indices=False] mu_state_filts = np.zeros((n_dim_state, n_timesteps), order='F')\n",
    "    cdef np.ndarray[np.double_t, ndim=3, negative_indices=False] var_state_filts = np.zeros((n_dim_state, n_dim_state, n_timesteps), order='F')\n",
    "    cdef np.ndarray[np.double_t, ndim=2, negative_indices=False] mu_state_preds = np.zeros((n_dim_state, n_timesteps), order='F')\n",
    "    cdef np.ndarray[np.double_t, ndim=3, negative_indices=False] var_state_preds = np.zeros((n_dim_state, n_dim_state, n_timesteps), order='F')\n",
    "    cdef np.ndarray[np.double_t, ndim=2, negative_indices=False] mu_state_smooths = np.zeros((n_dim_state, n_timesteps), order='F')\n",
    "    cdef np.ndarray[np.double_t, ndim=3, negative_indices=False] var_state_smooths = np.zeros((n_dim_state, n_dim_state, n_timesteps), order='F')\n",
    "    cdef np.ndarray[np.double_t, ndim=2, negative_indices=False] x_state_smooths = np.zeros((n_dim_state, n_timesteps), order='F')\n",
    "\n",
    "    # initialize things\n",
    "    mu_state_filts[:, 0] = x0_state\n",
    "    x_meass[:, 0] = x0_state.dot(wgt_meas.T)\n",
    "    mu_state_preds[:, 0] = mu_state_filts[:, 0]\n",
    "    var_state_preds[:, :, 0] = var_state_filts[:, :, 0]\n",
    "    # forward pass\n",
    "    ktv = KalmanTV(n_dim_meas, n_dim_state)\n",
    "    for t in range(n_eval):\n",
    "        ktv.predict(mu_state_pred = mu_state_preds[:, t+1],\n",
    "                    var_state_pred = var_state_preds[:, :, t+1],\n",
    "                    mu_state_past = mu_state_filts[:, t],\n",
    "                    var_state_past = var_state_filts[:, :, t],\n",
    "                    mu_state = mu_state,\n",
    "                    wgt_state = wgt_state,\n",
    "                    var_state = var_state)\n",
    "\n",
    "        var_meass[:, :, t+1] = np.linalg.multi_dot([wgt_meas, var_state_preds[:, :, t+1], wgt_meas.T]) \n",
    "        R_tt = np.linalg.cholesky(var_state_preds[:, :, t+1])\n",
    "        x_state_tt = mu_state_preds[:, t+1] + R_tt.dot(z_state_sim[:, t]) \n",
    "        x_meass[:, t+1] = fun(x_state_tt, tmin + (tmax-tmin)*(t+1)/n_eval)\n",
    "        ktv.update(mu_state_filt = mu_state_filts[:, t+1],\n",
    "                   var_state_filt = var_state_filts[:, :, t+1],\n",
    "                   mu_state_pred = mu_state_preds[:, t+1],\n",
    "                   var_state_pred = var_state_preds[:, :, t+1],\n",
    "                   x_meas = x_meass[:, t+1],\n",
    "                   mu_meas = mu_meas,\n",
    "                   wgt_meas = wgt_meas,\n",
    "                   var_meas = var_meass[:, :, t+1])\n",
    "\n",
    "    # backward pass\n",
    "    mu_state_smooths[:, n_eval] = mu_state_filts[:, n_eval]\n",
    "    var_state_smooths[:, :, n_eval] = var_state_filts[:, :, n_eval]\n",
    "    x_state_smooths[:, n_eval] = np.linalg.cholesky(var_state_smooths[:, :, n_eval]).dot(z_state_sim[:, 2*n_eval+1])\n",
    "    x_state_smooths[:, n_eval] += mu_state_smooths[:, n_eval]\n",
    "    #x_state_smooths[-1] = np.random.multivariate_normal(mu_state_smooths[-1], var_state_smooths[-1], tol=1e-6)\n",
    "    for t in reversed(range(n_eval)):\n",
    "        ktv.smooth(x_state_smooth = x_state_smooths[:, t],\n",
    "                   mu_state_smooth = mu_state_smooths[:, t],\n",
    "                   var_state_smooth = var_state_smooths[:, :, t], \n",
    "                   x_state_next = x_state_smooths[:, t+1],\n",
    "                   mu_state_next = mu_state_smooths[:, t+1],\n",
    "                   var_state_next = var_state_smooths[:, :, t+1],\n",
    "                   mu_state_filt = mu_state_filts[:, t],\n",
    "                   var_state_filt = var_state_filts[:, :, t],\n",
    "                   mu_state_pred = mu_state_preds[:, t+1],\n",
    "                   var_state_pred = var_state_preds[:, :, t+1],\n",
    "                   wgt_state = wgt_state,\n",
    "                   z_state = z_state_sim[:, n_eval+t])\n",
    "    \n",
    "    return x_state_smooths, mu_state_smooths, var_state_smooths\n"
   ]
  },
  {
   "cell_type": "code",
   "execution_count": 7,
   "metadata": {},
   "outputs": [],
   "source": [
    "Yn2, Yn_chk_mean2, Yn_chk_var2 = kalman_ode_higher_cy(ode_fun, x_0, tmin, tmax, N-1, wgt_state, mu_state, var_state, wgt_meas, z_state_sim)"
   ]
  },
  {
   "cell_type": "code",
   "execution_count": 62,
   "metadata": {},
   "outputs": [
    {
     "data": {
      "text/plain": [
       "<matplotlib.legend.Legend at 0x1f9098df400>"
      ]
     },
     "execution_count": 62,
     "metadata": {},
     "output_type": "execute_result"
    },
    {
     "data": {
      "image/png": "[encoded data removed]",
      "text/plain": [
       "<Figure size 432x288 with 1 Axes>"
      ]
     },
     "metadata": {
      "needs_background": "light"
     },
     "output_type": "display_data"
    }
   ],
   "source": [
    "tseq = np.linspace(tmin, tmax, N)\n",
    "plt.plot(tseq, Yn_chk_mean[:, 1], label = 'Python mean')\n",
    "plt.plot(tseq, Yn[:, 1], label = 'Python sample')\n",
    "plt.plot(tseq, Yn_chk_mean2[1], label = 'C mean')\n",
    "plt.plot(tseq, Yn2[1], label = 'C sample')\n",
    "plt.legend(loc='upper left')"
   ]
  },
  {
   "cell_type": "code",
   "execution_count": 63,
   "metadata": {},
   "outputs": [
    {
     "name": "stdout",
     "output_type": "stream",
     "text": [
      "18.6 ms ± 213 µs per loop (mean ± std. dev. of 7 runs, 100 loops each)\n"
     ]
    }
   ],
   "source": [
    "py = %timeit -o Yn, Yn_chk_mean, Yn_chk_var = \\\n",
    "    kalman_ode_higher(ode_fun, x_0, tmin, tmax, N-1, wgt_state, mu_state, var_state, wgt_meas)"
   ]
  },
  {
   "cell_type": "code",
   "execution_count": 70,
   "metadata": {},
   "outputs": [
    {
     "name": "stdout",
     "output_type": "stream",
     "text": [
      "2.95 ms ± 174 µs per loop (mean ± std. dev. of 7 runs, 100 loops each)\n"
     ]
    }
   ],
   "source": [
    "cy = %timeit -o Yn2, Yn_chk_mean2, Yn_chk_var2 = \\\n",
    "    kalman_ode_higher_cy(ode_fun, x_0, tmin, tmax, N-1, wgt_state, mu_state, var_state, wgt_meas, z_state_sim)"
   ]
  },
  {
   "cell_type": "code",
   "execution_count": 65,
   "metadata": {},
   "outputs": [
    {
     "data": {
      "text/plain": [
       "6.3432044180202105"
      ]
     },
     "execution_count": 65,
     "metadata": {},
     "output_type": "execute_result"
    }
   ],
   "source": [
    "py.average/cy.average"
   ]
  },
  {
   "cell_type": "code",
   "execution_count": 40,
   "metadata": {},
   "outputs": [],
   "source": [
    "def f(x_t, t):\n",
    "    return [x_t[1], sin(2*t) - x_t[0]]"
   ]
  },
  {
   "cell_type": "code",
   "execution_count": 49,
   "metadata": {},
   "outputs": [
    {
     "name": "stdout",
     "output_type": "stream",
     "text": [
      "536 µs ± 5.42 µs per loop (mean ± std. dev. of 7 runs, 1000 loops each)\n"
     ]
    },
    {
     "data": {
      "text/plain": [
       "5.780581976767082"
      ]
     },
     "execution_count": 49,
     "metadata": {},
     "output_type": "execute_result"
    }
   ],
   "source": [
    "ode = %timeit -o ode = integrate.odeint(f, [-1, 0], tseq)\n",
    "cy.average/ode.average"
   ]
  }
 ],
 "metadata": {
  "kernelspec": {
   "display_name": "Python 3",
   "language": "python",
   "name": "python3"
  },
  "language_info": {
   "codemirror_mode": {
    "name": "ipython",
    "version": 3
   },
   "file_extension": ".py",
   "mimetype": "text/x-python",
   "name": "python",
   "nbconvert_exporter": "python",
   "pygments_lexer": "ipython3",
   "version": "3.7.3"
  }
 },
 "nbformat": 4,
 "nbformat_minor": 2
}
