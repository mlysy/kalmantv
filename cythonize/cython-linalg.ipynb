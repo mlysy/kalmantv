{
 "cells": [
  {
   "cell_type": "markdown",
   "metadata": {},
   "source": [
    "# Linear Algebra with Cython: Interface to BLAS/LAPACK\n",
    "\n",
    "Martin Lysy *mlysy@uwaterloo.ca*\n",
    "\n",
    "September 22, 2019"
   ]
  },
  {
   "cell_type": "markdown",
   "metadata": {},
   "source": [
    "## Preliminaries\n",
    "\n",
    "1.  Install **scipy** and **cython**.  I did this with **conda**:\n",
    "    ```\n",
    "    conda create --name cylinenv python=3.7.4 scipy cython\n",
    "    ```\n",
    "2.  Install a C compiler.  It seems this was already done on my computer.\n",
    "\n",
    "3.  Reading material:\n",
    "\n",
    "    - [cython](https://cython.readthedocs.io/en/latest/index.html) documentation.  Contains installation notes, various forms of compiling, static typing, etc. \n",
    "    - [BLAS](http://www.netlib.org/blas/) and [LAPACK](http://www.netlib.org/lapack/lug/node1.html) documentation.  The \"Structure of LAPACK\" in the latter explains the naming conventions used in both (I think we want the \"d\" = `double` routines for interfacing with Python).\n",
    "    - BLAS/LAPACK [function documentation](http://www.netlib.org/lapack/explore-html/modules.html).  This specifies the exact input/outputs for the functions overviewed above.\n",
    "    - [cython for NumPy users](https://cython.readthedocs.io/en/latest/src/userguide/numpy_tutorial.html): tips on interfacing with `ndarray`s.\n",
    "    - SciPy [low-level routines](https://docs.scipy.org/doc/scipy/reference/linalg.html#low-level-routines): the functions in `scipy.linalg.cython_{blas/lapack}` give direct access to the corresponding Fortran functions for cythonizing.\n",
    "    - NumPy [internals](https://docs.scipy.org/doc/numpy/reference/internals.html): discusses what to do about \"conventional python\" vs \"Fortran\" ordering of arrays.\n",
    "    - Discussion of Cython [memoryviews](http://docs.cython.org/en/latest/src/userguide/memoryviews.html), which shows how to interface with NumPy arrays without unnecessary copying.\n",
    "    - Explanation of the [leading dimension](https://scc.ustc.edu.cn/zlsc/tc4600/intel/2017.0.098/mkl/common/mklman_c/GUID-E0EC22B2-FDDF-4340-8B6E-C4E0747626B2.htm) argument of BLAS/LAPACK routines for accessing submatrices of larger matrices."
   ]
  },
  {
   "cell_type": "markdown",
   "metadata": {},
   "source": [
    "## Hello World Example\n",
    "\n",
    "Taken from [here](https://cython.readthedocs.io/en/latest/src/tutorial/cython_tutorial.html)."
   ]
  },
  {
   "cell_type": "code",
   "execution_count": 1,
   "metadata": {},
   "outputs": [
    {
     "ename": "ModuleNotFoundError",
     "evalue": "No module named 'helloworld'",
     "output_type": "error",
     "traceback": [
      "\u001b[1;31m---------------------------------------------------------------------------\u001b[0m",
      "\u001b[1;31mModuleNotFoundError\u001b[0m                       Traceback (most recent call last)",
      "\u001b[1;32m<ipython-input-1-6e69e122d2fa>\u001b[0m in \u001b[0;36m<module>\u001b[1;34m\u001b[0m\n\u001b[0;32m      1\u001b[0m \u001b[1;32mimport\u001b[0m \u001b[0mpyximport\u001b[0m\u001b[1;33m\u001b[0m\u001b[1;33m\u001b[0m\u001b[0m\n\u001b[0;32m      2\u001b[0m \u001b[0mpyximport\u001b[0m\u001b[1;33m.\u001b[0m\u001b[0minstall\u001b[0m\u001b[1;33m(\u001b[0m\u001b[1;33m)\u001b[0m\u001b[1;33m\u001b[0m\u001b[1;33m\u001b[0m\u001b[0m\n\u001b[1;32m----> 3\u001b[1;33m \u001b[1;32mimport\u001b[0m \u001b[0mhelloworld\u001b[0m\u001b[1;33m\u001b[0m\u001b[1;33m\u001b[0m\u001b[0m\n\u001b[0m",
      "\u001b[1;31mModuleNotFoundError\u001b[0m: No module named 'helloworld'"
     ]
    }
   ],
   "source": [
    "import pyximport\n",
    "pyximport.install()\n",
    "import helloworld"
   ]
  },
  {
   "cell_type": "markdown",
   "metadata": {},
   "source": [
    "If we want to compile the code for reuse, need `setup.py`:"
   ]
  },
  {
   "cell_type": "code",
   "execution_count": 4,
   "metadata": {},
   "outputs": [
    {
     "name": "stdout",
     "output_type": "stream",
     "text": [
      "Compiling kalman_ode_higher.pyx because it changed.\n",
      "Compiling kalman_ode_higher.py because it changed.\n",
      "[1/2] Cythonizing kalman_ode_higher.py\n",
      "[2/2] Cythonizing kalman_ode_higher.pyx\n",
      "running build_ext\n",
      "building 'kalman_ode_higher' extension\n",
      "creating build\n",
      "creating build\\temp.win-amd64-3.7\n",
      "creating build\\temp.win-amd64-3.7\\Release\n",
      "C:\\Program Files (x86)\\Microsoft Visual Studio\\2019\\BuildTools\\VC\\Tools\\MSVC\\14.24.28314\\bin\\HostX86\\x64\\cl.exe /c /nologo /Ox /W3 /GL /DNDEBUG /MT -IC:\\Users\\mohan\\Anaconda3\\lib\\site-packages\\numpy\\core\\include -IC:\\Users\\mohan\\Anaconda3\\include -IC:\\Users\\mohan\\Anaconda3\\include \"-IC:\\Program Files (x86)\\Microsoft Visual Studio\\2019\\BuildTools\\VC\\Tools\\MSVC\\14.24.28314\\include\" \"-IC:\\Program Files (x86)\\Windows Kits\\10\\include\\10.0.18362.0\\ucrt\" \"-IC:\\Program Files (x86)\\Windows Kits\\10\\include\\10.0.18362.0\\shared\" \"-IC:\\Program Files (x86)\\Windows Kits\\10\\include\\10.0.18362.0\\um\" \"-IC:\\Program Files (x86)\\Windows Kits\\10\\include\\10.0.18362.0\\winrt\" \"-IC:\\Program Files (x86)\\Windows Kits\\10\\include\\10.0.18362.0\\cppwinrt\" /Tckalman_ode_higher.c /Fobuild\\temp.win-amd64-3.7\\Release\\kalman_ode_higher.obj\n",
      "kalman_ode_higher.c\n",
      "C:\\Users\\mohan\\Anaconda3\\lib\\site-packages\\numpy\\core\\include\\numpy\\npy_1_7_deprecated_api.h(14) : Warning Msg: Using deprecated NumPy API, disable it with #define NPY_NO_DEPRECATED_API NPY_1_7_API_VERSION\n",
      "kalman_ode_higher.c(2297): warning C4244: '=': conversion from 'npy_intp' to 'int', possible loss of data\n",
      "kalman_ode_higher.c(2307): warning C4244: '=': conversion from 'Py_ssize_t' to 'int', possible loss of data\n",
      "C:\\Program Files (x86)\\Microsoft Visual Studio\\2019\\BuildTools\\VC\\Tools\\MSVC\\14.24.28314\\bin\\HostX86\\x64\\link.exe /nologo /INCREMENTAL:NO /LTCG /nodefaultlib:libucrt.lib ucrt.lib /DLL /MANIFEST:EMBED,ID=2 /MANIFESTUAC:NO /LIBPATH:C:\\Users\\mohan\\Anaconda3\\libs /LIBPATH:C:\\Users\\mohan\\Anaconda3\\PCbuild\\amd64 \"/LIBPATH:C:\\Program Files (x86)\\Microsoft Visual Studio\\2019\\BuildTools\\VC\\Tools\\MSVC\\14.24.28314\\lib\\x64\" \"/LIBPATH:C:\\Program Files (x86)\\Windows Kits\\10\\lib\\10.0.18362.0\\ucrt\\x64\" \"/LIBPATH:C:\\Program Files (x86)\\Windows Kits\\10\\lib\\10.0.18362.0\\um\\x64\" /EXPORT:PyInit_kalman_ode_higher build\\temp.win-amd64-3.7\\Release\\kalman_ode_higher.obj /OUT:C:\\Users\\mohan\\Documents\\kalmantv\\cythonize\\kalman_ode_higher.cp37-win_amd64.pyd /IMPLIB:build\\temp.win-amd64-3.7\\Release\\kalman_ode_higher.cp37-win_amd64.lib\n",
      "   Creating library build\\temp.win-amd64-3.7\\Release\\kalman_ode_higher.cp37-win_amd64.lib and object build\\temp.win-amd64-3.7\\Release\\kalman_ode_higher.cp37-win_amd64.exp\n",
      "Generating code\n",
      "Finished generating code\n"
     ]
    },
    {
     "name": "stderr",
     "output_type": "stream",
     "text": [
      "C:\\Users\\mohan\\Anaconda3\\lib\\site-packages\\Cython\\Compiler\\Main.py:367: FutureWarning: Cython directive 'language_level' not set, using 2 for now (Py2). This will change in a later release! File: C:\\Users\\mohan\\Documents\\kalmantv\\cythonize\\kalman_ode_higher.py\n",
      "  tree = Parsing.p_module(s, pxd, full_module_name)\n",
      "C:\\Users\\mohan\\Anaconda3\\lib\\site-packages\\Cython\\Compiler\\Main.py:367: FutureWarning: Cython directive 'language_level' not set, using 2 for now (Py2). This will change in a later release! File: C:\\Users\\mohan\\Documents\\kalmantv\\cythonize\\kalman_ode_higher.pyx\n",
      "  tree = Parsing.p_module(s, pxd, full_module_name)\n"
     ]
    }
   ],
   "source": [
    "!python setup.py build_ext --inplace"
   ]
  },
  {
   "cell_type": "code",
   "execution_count": 3,
   "metadata": {},
   "outputs": [
    {
     "ename": "ModuleNotFoundError",
     "evalue": "No module named 'helloworld'",
     "output_type": "error",
     "traceback": [
      "\u001b[1;31m---------------------------------------------------------------------------\u001b[0m",
      "\u001b[1;31mModuleNotFoundError\u001b[0m                       Traceback (most recent call last)",
      "\u001b[1;32m<ipython-input-3-39f3e3c18221>\u001b[0m in \u001b[0;36m<module>\u001b[1;34m\u001b[0m\n\u001b[1;32m----> 1\u001b[1;33m \u001b[1;32mimport\u001b[0m \u001b[0mhelloworld\u001b[0m\u001b[1;33m\u001b[0m\u001b[1;33m\u001b[0m\u001b[0m\n\u001b[0m",
      "\u001b[1;31mModuleNotFoundError\u001b[0m: No module named 'helloworld'"
     ]
    }
   ],
   "source": [
    "import helloworld"
   ]
  },
  {
   "cell_type": "markdown",
   "metadata": {},
   "source": [
    "Something a bit strange with printing, i.e., won't do it twice in a row...\n",
    "\n",
    "Let's see if it's the same with something that returns a number:"
   ]
  },
  {
   "cell_type": "code",
   "execution_count": 10,
   "metadata": {},
   "outputs": [
    {
     "name": "stdout",
     "output_type": "stream",
     "text": [
      "1 1 2 3 5 8 13 21 34 "
     ]
    },
    {
     "data": {
      "text/plain": [
       "0"
      ]
     },
     "execution_count": 10,
     "metadata": {},
     "output_type": "execute_result"
    }
   ],
   "source": [
    "import numpy as np # for random draws\n",
    "import fibonacci # cython version\n",
    "# python version\n",
    "def fib2(n):\n",
    "    \"\"\"Print the Fibonacci series up to n.\"\"\"\n",
    "    a, b = 0, 1\n",
    "    while b < n:\n",
    "        print(b, end=' ')\n",
    "        a, b = b, a + b\n",
    "    return b\n",
    "\n",
    "n = np.random.randint(50)\n",
    "fibonacci.fib(n) - fib2(n)"
   ]
  },
  {
   "cell_type": "markdown",
   "metadata": {},
   "source": [
    "This works as expected.  No `.so` file generated from \"inline\" `import` call (instead of via `setup.py`)."
   ]
  },
  {
   "cell_type": "markdown",
   "metadata": {},
   "source": [
    "## Linear Algebra\n",
    "\n",
    "OK let's start by calling one of the **BLAS**/**LAPACK** functions directly from **scipy**.  Let's try solving a linear system $X = V^{-1}B$ where $V$ is a variance matrix (symmetric positive definite)."
   ]
  },
  {
   "cell_type": "code",
   "execution_count": 6,
   "metadata": {
    "scrolled": true
   },
   "outputs": [
    {
     "data": {
      "text/plain": [
       "array([[ 3.83693077e-13, -5.86197757e-13],\n",
       "       [-5.57776048e-13,  8.66862138e-13],\n",
       "       [-4.44089210e-13,  6.89226454e-13],\n",
       "       [ 6.53699317e-13, -1.01607611e-12],\n",
       "       [-1.38555833e-13,  2.14939178e-13]])"
      ]
     },
     "execution_count": 6,
     "metadata": {},
     "output_type": "execute_result"
    }
   ],
   "source": [
    "import numpy as np\n",
    "import scipy as sp\n",
    "import scipy.linalg\n",
    "\n",
    "def solveV_py(V, B):\n",
    "    \"\"\"Solve linear system with variance matrix.\"\"\"\n",
    "    U , _ = sp.linalg.lapack.dpotrf(V, False, False) # cholesky decomposition\n",
    "    X , info = sp.linalg.lapack.dpotrs(U, B) # solve system\n",
    "    return X\n",
    "\n",
    "# verify solution\n",
    "n = 5\n",
    "p = 2\n",
    "V = np.random.rand(n,n)\n",
    "V = np.matmul(V, V.T)\n",
    "B = np.random.rand(n, p) # RHS\n",
    "\n",
    "sp.linalg.solve(V, B) - solveV_py(V, B)"
   ]
  },
  {
   "cell_type": "markdown",
   "metadata": {},
   "source": [
    "OK let's build this with Cython.  Here's a couple of things to worry about:\n",
    "\n",
    "1.  BLAS/LAPACK often does operations in-place, i.e., will probably need to do some copying. \n",
    "\n",
    "2.  The BLAS/LAPACK functions assume Fortran-style matrices (column-major), whereas NumPy is row-major by default.\n",
    "\n",
    "Here's the example, using yet another way of compiling on-the-fly within jupyter notebooks."
   ]
  },
  {
   "cell_type": "code",
   "execution_count": 7,
   "metadata": {},
   "outputs": [],
   "source": [
    "%load_ext Cython"
   ]
  },
  {
   "cell_type": "code",
   "execution_count": 8,
   "metadata": {},
   "outputs": [],
   "source": [
    "%%cython\n",
    "\n",
    "from scipy.linalg.cython_lapack cimport dpotrf, dpotrs\n",
    "\n",
    "cpdef solveV(double[::1,:] V, double[::1,:] B, double[::1,:] X, double[::1,:] U):\n",
    "    \"\"\"Solve a linear system with a variance matrix.\n",
    "    Note the matrix U, which is provided for intermediate storage (otherwise things get overwritten).\n",
    "    \"\"\"\n",
    "    # get dimensions\n",
    "    cdef int n=V.shape[0], nrhs=B.shape[1], lda=n, ldb=n, info\n",
    "    cdef char* uplo='U'\n",
    "    # cholesky factor\n",
    "    U[:] = V # operates in-place, so this prevents V from being overwritten\n",
    "    dpotrf(&uplo[0],&n,&U[0,0],&lda,&info)\n",
    "    # solve system with cholesky factor\n",
    "    X[:] = B # again prevents overwriting\n",
    "    dpotrs(&uplo[0],&n,&nrhs,&U[0,0],&lda,&X[0,0],&ldb,&info)\n",
    "\n",
    "cpdef solveV_multi(double[::1,:,:] V, double[::1,:,:] B, double[::1,:,:] X, double[::1,:] U):\n",
    "    \"\"\"Multiple calls to solveV\"\"\"\n",
    "    cdef int nreps = V.shape[2], ii\n",
    "    for ii in range(nreps):\n",
    "        solveV(V[:,:,ii], B[:,:,ii], X[:,:,ii], U)\n"
   ]
  },
  {
   "cell_type": "code",
   "execution_count": 9,
   "metadata": {},
   "outputs": [
    {
     "name": "stdout",
     "output_type": "stream",
     "text": [
      "True\n",
      "True\n"
     ]
    }
   ],
   "source": [
    "# test code\n",
    "# make sure everything is column-major order!\n",
    "n = np.random.randint(2,10)\n",
    "p = np.random.randint(2,10)\n",
    "V = np.zeros((n,n), order='F')\n",
    "V[:] = np.random.rand(n,n)\n",
    "V[:] = np.matmul(V, V.T)\n",
    "B = np.array(np.random.rand(n,p),order='F')\n",
    "print(np.isfortran(V))\n",
    "print(np.isfortran(B))"
   ]
  },
  {
   "cell_type": "code",
   "execution_count": 14,
   "metadata": {},
   "outputs": [
    {
     "name": "stdout",
     "output_type": "stream",
     "text": [
      "True\n",
      "True\n",
      "True\n",
      "[[0. 0.]\n",
      " [0. 0.]]\n",
      "[[ 2.22044605e-16  2.22044605e-16  4.44089210e-16]\n",
      " [ 1.11022302e-16 -3.46944695e-18 -1.38777878e-17]]\n"
     ]
    }
   ],
   "source": [
    "# test code\n",
    "# make sure everything is column-major order!\n",
    "n = np.random.randint(2,10)\n",
    "p = np.random.randint(2,10)\n",
    "V = np.zeros((n,n), order='F')\n",
    "V[:] = np.random.rand(n,n)\n",
    "V[:] = np.matmul(V, V.T)\n",
    "B = np.array(np.random.rand(n,p),order='F')\n",
    "print(np.isfortran(V))\n",
    "print(np.isfortran(B))\n",
    "\n",
    "# do calculations in python first to make sure there's no overwriting\n",
    "Up = sp.linalg.cholesky(V)\n",
    "Xp = sp.linalg.solve(V, B)\n",
    "\n",
    "# first pure cholesky\n",
    "U = np.zeros((n,n), order='F')\n",
    "print(np.isfortran(U))\n",
    "chol(V, U)\n",
    "print(Up - np.triu(U))\n",
    "\n",
    "# now solver\n",
    "X = np.zeros((n,p), order='F')\n",
    "solveV(V, B, X, U)\n",
    "print(Xp - X)"
   ]
  },
  {
   "cell_type": "markdown",
   "metadata": {},
   "source": [
    "### Speed Test\n",
    "\n",
    "Now we have `solveV` written entirely in C, and `solveV_py` using the same C-level functions but with only a Python interface.  Therefore, if we want to loop the calculation over several matrices, the latter will have some overhead.  Let's see how much this overhead is."
   ]
  },
  {
   "cell_type": "code",
   "execution_count": 70,
   "metadata": {},
   "outputs": [],
   "source": [
    "# preliminary functions\n",
    "\n",
    "# lapack/python solver\n",
    "def solveV_multi_py(V, B, X):\n",
    "    nreps = V.shape[2]\n",
    "    for ii in range(nreps):\n",
    "        X[:,:,ii] = solveV_py(V[:,:,ii], B[:,:,ii])\n",
    "        \n",
    "# relative error\n",
    "def rel_err(X1, X2):\n",
    "    return np.max(np.abs((X1.ravel() - X2.ravel())/X1.ravel()))\n",
    "\n",
    "# timing function\n",
    "from contextlib import contextmanager\n",
    "from time import time\n",
    "\n",
    "@contextmanager\n",
    "def timing(description: str) -> None:\n",
    "    start = time()\n",
    "    yield\n",
    "    ellapsed_time = time() - start\n",
    "\n",
    "    print(f\"{description}: {ellapsed_time}\")\n"
   ]
  },
  {
   "cell_type": "code",
   "execution_count": 86,
   "metadata": {},
   "outputs": [
    {
     "name": "stdout",
     "output_type": "stream",
     "text": [
      "Pure SciPy: 0.040476322174072266\n",
      "LAPACK/SciPy: 0.005300998687744141\n",
      "Pure LAPACK: 0.0017158985137939453\n",
      "relative error: 0.0\n",
      "relative error: 0.0\n"
     ]
    }
   ],
   "source": [
    "# generate random data\n",
    "#n = np.random.randint(2,10) # size of matrix\n",
    "#p = np.random.randint(2,10) # size of solution\n",
    "#nreps = np.random.randint(5,10) # number of replications\n",
    "n = 20\n",
    "p = 1\n",
    "nreps = 1000\n",
    "\n",
    "V = np.zeros((n,n,nreps), order='F')\n",
    "for ii in range(nreps):\n",
    "    vv = np.random.rand(n,n)\n",
    "    V[:,:,ii] = np.matmul(vv, vv.T)\n",
    "B = np.array(np.random.rand(n,p,nreps),order='F')\n",
    "\n",
    "# first check in pure Python to make sure everything works correctly\n",
    "Xp1 = np.zeros((n,p,nreps), order='F')\n",
    "with timing(\"Pure SciPy ()\"):\n",
    "    for ii in range(nreps):\n",
    "        C, low = sp.linalg.cho_factor(V[:,:,ii])\n",
    "        Xp1[:,:,ii] = sp.linalg.cho_solve((C, low), B[:,:,ii])\n",
    "\n",
    "# now check lapack/python\n",
    "Xp2 = np.zeros((n,p,nreps), order='F')\n",
    "with timing(\"LAPACK/SciPy\"):\n",
    "    solveV_multi_py(V, B, Xp2)\n",
    "\n",
    "# finally, lapack/cython\n",
    "X = np.zeros((n,p,nreps), order='F')\n",
    "U = np.zeros((n,n), order='F') # temporary storage\n",
    "\n",
    "with timing(\"Pure LAPACK\"):\n",
    "    solveV_multi(V, B, X, U)\n",
    "\n",
    "print(f\"relative error: {rel_err(Xp1, Xp2)}\")\n",
    "print(f\"relative error: {rel_err(Xp1, X)}\")"
   ]
  },
  {
   "cell_type": "code",
   "execution_count": 57,
   "metadata": {},
   "outputs": [],
   "source": [
    "X = np.zeros((n,p,nreps), order='F')\n",
    "for ii in range(nreps):\n",
    "    Xp[:,:,ii] = sp.linalg.solve(V[:,:,ii], B[:,:,ii])\n",
    "    solveV(V[:,:,ii], B[:,:,ii], X[:,:,ii], U)\n",
    "\n",
    "np.max(np.abs(Xp.ravel() - X.ravel())/np.abs(Xp.ravel()))"
   ]
  },
  {
   "cell_type": "markdown",
   "metadata": {},
   "source": [
    "## Scratch\n",
    "\n",
    "Before jumping in with `solveV` I tried a simpler LAPACK function, namely solving a tridiagonal system.  It's simpler because it doesn't require matrix inputs, so we don't have to worry about order."
   ]
  },
  {
   "cell_type": "code",
   "execution_count": null,
   "metadata": {},
   "outputs": [],
   "source": [
    "%%cython\n",
    "\n",
    "from scipy.linalg.cython_lapack cimport dgtsv\n",
    "\n",
    "cpdef tridiag(double[::1] a, double[::1] b, \n",
    "              double[::1] c, double[::1] x):\n",
    "    cdef int n=b.shape[0], nrhs=1, info\n",
    "    # Solution is written over the values in x. \n",
    "    dgtsv(&n, &nrhs, &a[0], &b[0], &c[0], &x[0], &n, &info)"
   ]
  },
  {
   "cell_type": "code",
   "execution_count": null,
   "metadata": {},
   "outputs": [],
   "source": [
    "# test code\n",
    "def tridiag_py(a, b, c, x):\n",
    "    \"\"\" Solve the system A y = x for y\n",
    "    where A is the square matrix with subdiagonal 'a', \n",
    "    diagonal 'b', and superdiagonal 'c'. \"\"\" \n",
    "    A = np.zeros((b.shape[0], b.shape[0])) \n",
    "    np.fill_diagonal(A[1:], a) \n",
    "    np.fill_diagonal(A, b) \n",
    "    np.fill_diagonal(A[:,1:], c)\n",
    "    return np.linalg.solve(A, x)\n",
    "\n",
    "n = 10\n",
    "a = np.random.rand(n-1)\n",
    "b = np.random.rand(n)\n",
    "c = np.random.rand(n-1)\n",
    "x = np.random.rand(n)\n",
    "\n",
    "y1 = tridiag_py(a, b, c, x)\n",
    "tridiag(a, b, c, x)\n",
    "x - y1"
   ]
  },
  {
   "cell_type": "markdown",
   "metadata": {},
   "source": [
    "This is just some tests of NumPy array ordering."
   ]
  },
  {
   "cell_type": "code",
   "execution_count": 42,
   "metadata": {},
   "outputs": [
    {
     "name": "stdout",
     "output_type": "stream",
     "text": [
      "[[0.39949194 0.36282424]\n",
      " [0.75187443 0.40503242]]\n",
      "[[0.39949194 0.36282424]\n",
      " [0.75187443 0.40503242]]\n",
      "  C_CONTIGUOUS : True\n",
      "  F_CONTIGUOUS : False\n",
      "  OWNDATA : True\n",
      "  WRITEABLE : True\n",
      "  ALIGNED : True\n",
      "  WRITEBACKIFCOPY : False\n",
      "  UPDATEIFCOPY : False\n",
      "  C_CONTIGUOUS : False\n",
      "  F_CONTIGUOUS : True\n",
      "  OWNDATA : True\n",
      "  WRITEABLE : True\n",
      "  ALIGNED : True\n",
      "  WRITEBACKIFCOPY : False\n",
      "  UPDATEIFCOPY : False\n"
     ]
    }
   ],
   "source": [
    "X = np.random.rand(2,2)\n",
    "Y = np.copy(X, order='F')\n",
    "print(X)\n",
    "print(Y)\n",
    "print(X.flags)\n",
    "print(Y.flags)"
   ]
  },
  {
   "cell_type": "markdown",
   "metadata": {},
   "source": [
    "Here I just want to confirm that `solveV` accepts submatrices."
   ]
  },
  {
   "cell_type": "code",
   "execution_count": 47,
   "metadata": {},
   "outputs": [
    {
     "name": "stdout",
     "output_type": "stream",
     "text": [
      "True\n",
      "True\n"
     ]
    },
    {
     "data": {
      "text/plain": [
       "7.68799009161521e-14"
      ]
     },
     "execution_count": 47,
     "metadata": {},
     "output_type": "execute_result"
    }
   ],
   "source": [
    "# test code\n",
    "# make sure everything is column-major order!\n",
    "n = np.random.randint(2,10) # size of matrix\n",
    "p = np.random.randint(2,10) # size of solution\n",
    "nreps = np.random.randint(5,10) # number of replications\n",
    "V = np.zeros((n,n,nreps), order='F')\n",
    "for ii in range(nreps):\n",
    "    vv = np.random.rand(n,n)\n",
    "    V[:,:,ii] = np.matmul(vv, vv.T)\n",
    "B = np.array(np.random.rand(n,p,nreps),order='F')\n",
    "U = np.zeros((n,n), order='F')\n",
    "print(np.isfortran(V))\n",
    "print(np.isfortran(B))\n",
    "\n",
    "Xp = np.zeros((n,p,nreps), order='F')\n",
    "X = np.zeros((n,p,nreps), order='F')\n",
    "for ii in range(nreps):\n",
    "    Xp[:,:,ii] = sp.linalg.solve(V[:,:,ii], B[:,:,ii])\n",
    "    solveV(V[:,:,ii], B[:,:,ii], X[:,:,ii], U)\n",
    "\n",
    "np.max(np.abs(Xp.ravel() - X.ravel())/np.abs(Xp.ravel()))"
   ]
  },
  {
   "cell_type": "code",
   "execution_count": 23,
   "metadata": {},
   "outputs": [
    {
     "ename": "ValueError",
     "evalue": "Input array needs to be 2 dimensional but received a 3d-array.",
     "output_type": "error",
     "traceback": [
      "\u001b[0;31m---------------------------------------------------------------------------\u001b[0m",
      "\u001b[0;31mValueError\u001b[0m                                Traceback (most recent call last)",
      "\u001b[0;32m<ipython-input-23-6e5bc92067e6>\u001b[0m in \u001b[0;36m<module>\u001b[0;34m\u001b[0m\n\u001b[1;32m      1\u001b[0m \u001b[0;31m# do calculations in python first to make sure there's no overwriting\u001b[0m\u001b[0;34m\u001b[0m\u001b[0;34m\u001b[0m\u001b[0;34m\u001b[0m\u001b[0m\n\u001b[0;32m----> 2\u001b[0;31m \u001b[0mUp\u001b[0m \u001b[0;34m=\u001b[0m \u001b[0msp\u001b[0m\u001b[0;34m.\u001b[0m\u001b[0mlinalg\u001b[0m\u001b[0;34m.\u001b[0m\u001b[0mcholesky\u001b[0m\u001b[0;34m(\u001b[0m\u001b[0mV\u001b[0m\u001b[0;34m)\u001b[0m\u001b[0;34m\u001b[0m\u001b[0;34m\u001b[0m\u001b[0m\n\u001b[0m\u001b[1;32m      3\u001b[0m \u001b[0mXp\u001b[0m \u001b[0;34m=\u001b[0m \u001b[0msp\u001b[0m\u001b[0;34m.\u001b[0m\u001b[0mlinalg\u001b[0m\u001b[0;34m.\u001b[0m\u001b[0msolve\u001b[0m\u001b[0;34m(\u001b[0m\u001b[0mV\u001b[0m\u001b[0;34m,\u001b[0m \u001b[0mB\u001b[0m\u001b[0;34m)\u001b[0m\u001b[0;34m\u001b[0m\u001b[0;34m\u001b[0m\u001b[0m\n\u001b[1;32m      4\u001b[0m \u001b[0;34m\u001b[0m\u001b[0m\n\u001b[1;32m      5\u001b[0m \u001b[0;31m# first pure cholesky\u001b[0m\u001b[0;34m\u001b[0m\u001b[0;34m\u001b[0m\u001b[0;34m\u001b[0m\u001b[0m\n",
      "\u001b[0;32m~/miniconda3/lib/python3.7/site-packages/scipy/linalg/decomp_cholesky.py\u001b[0m in \u001b[0;36mcholesky\u001b[0;34m(a, lower, overwrite_a, check_finite)\u001b[0m\n\u001b[1;32m     89\u001b[0m     \"\"\"\n\u001b[1;32m     90\u001b[0m     c, lower = _cholesky(a, lower=lower, overwrite_a=overwrite_a, clean=True,\n\u001b[0;32m---> 91\u001b[0;31m                          check_finite=check_finite)\n\u001b[0m\u001b[1;32m     92\u001b[0m     \u001b[0;32mreturn\u001b[0m \u001b[0mc\u001b[0m\u001b[0;34m\u001b[0m\u001b[0;34m\u001b[0m\u001b[0m\n\u001b[1;32m     93\u001b[0m \u001b[0;34m\u001b[0m\u001b[0m\n",
      "\u001b[0;32m~/miniconda3/lib/python3.7/site-packages/scipy/linalg/decomp_cholesky.py\u001b[0m in \u001b[0;36m_cholesky\u001b[0;34m(a, lower, overwrite_a, clean, check_finite)\u001b[0m\n\u001b[1;32m     23\u001b[0m     \u001b[0;32mif\u001b[0m \u001b[0ma1\u001b[0m\u001b[0;34m.\u001b[0m\u001b[0mndim\u001b[0m \u001b[0;34m!=\u001b[0m \u001b[0;36m2\u001b[0m\u001b[0;34m:\u001b[0m\u001b[0;34m\u001b[0m\u001b[0;34m\u001b[0m\u001b[0m\n\u001b[1;32m     24\u001b[0m         raise ValueError('Input array needs to be 2 dimensional but received '\n\u001b[0;32m---> 25\u001b[0;31m                          'a {}d-array.'.format(a1.ndim))\n\u001b[0m\u001b[1;32m     26\u001b[0m     \u001b[0;31m# Squareness check\u001b[0m\u001b[0;34m\u001b[0m\u001b[0;34m\u001b[0m\u001b[0;34m\u001b[0m\u001b[0m\n\u001b[1;32m     27\u001b[0m     \u001b[0;32mif\u001b[0m \u001b[0ma1\u001b[0m\u001b[0;34m.\u001b[0m\u001b[0mshape\u001b[0m\u001b[0;34m[\u001b[0m\u001b[0;36m0\u001b[0m\u001b[0;34m]\u001b[0m \u001b[0;34m!=\u001b[0m \u001b[0ma1\u001b[0m\u001b[0;34m.\u001b[0m\u001b[0mshape\u001b[0m\u001b[0;34m[\u001b[0m\u001b[0;36m1\u001b[0m\u001b[0;34m]\u001b[0m\u001b[0;34m:\u001b[0m\u001b[0;34m\u001b[0m\u001b[0;34m\u001b[0m\u001b[0m\n",
      "\u001b[0;31mValueError\u001b[0m: Input array needs to be 2 dimensional but received a 3d-array."
     ]
    }
   ],
   "source": [
    "\n",
    "\n",
    "# do calculations in python first to make sure there's no overwriting\n",
    "Up = sp.linalg.cholesky(V)\n",
    "Xp = sp.linalg.solve(V, B)\n",
    "\n",
    "# first pure cholesky\n",
    "U = np.zeros((n,n), order='F')\n",
    "print(np.isfortran(U))\n",
    "chol(V, U)\n",
    "print(Up - np.triu(U))\n",
    "\n",
    "# now solver\n",
    "X = np.zeros((n,p), order='F')\n",
    "solveV(V, B, X, U)\n",
    "print(Xp - X)"
   ]
  },
  {
   "cell_type": "code",
   "execution_count": null,
   "metadata": {},
   "outputs": [],
   "source": []
  }
 ],
 "metadata": {
  "kernelspec": {
   "display_name": "Python 3",
   "language": "python",
   "name": "python3"
  },
  "language_info": {
   "codemirror_mode": {
    "name": "ipython",
    "version": 3
   },
   "file_extension": ".py",
   "mimetype": "text/x-python",
   "name": "python",
   "nbconvert_exporter": "python",
   "pygments_lexer": "ipython3",
   "version": "3.7.3"
  }
 },
 "nbformat": 4,
 "nbformat_minor": 2
}
