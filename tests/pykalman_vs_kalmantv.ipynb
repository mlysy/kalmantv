{
 "cells": [
  {
   "cell_type": "markdown",
   "metadata": {},
   "source": [
    "## Timings of **pykalman** vs **KalmanTV**"
   ]
  },
  {
   "cell_type": "code",
   "execution_count": 8,
   "metadata": {},
   "outputs": [],
   "source": [
    "from kalmantv import KalmanTV\n",
    "from kalmantv.tests.kalmantv_eigen import KalmanTV as KalmanTV_c\n",
    "from pykalman import standard as pks\n",
    "import time\n",
    "import numpy as np"
   ]
  },
  {
   "cell_type": "code",
   "execution_count": 5,
   "metadata": {},
   "outputs": [],
   "source": [
    "def rand_vec(n):\n",
    "    \"\"\"Generate a random vector.\"\"\"\n",
    "    return np.random.randn(n)\n",
    "\n",
    "def rand_mat(n, p=None, pd=True):\n",
    "    \"\"\"Generate a random matrix, positive definite if `pd = True`.\"\"\"\n",
    "    if p is None:\n",
    "        p = n\n",
    "    V = np.zeros((n, p), order='F')\n",
    "    V[:] = np.random.randn(n, p)\n",
    "    if (p == n) & pd:\n",
    "        V[:] = np.matmul(V, V.T)\n",
    "    return V"
   ]
  },
  {
   "cell_type": "code",
   "execution_count": 9,
   "metadata": {},
   "outputs": [],
   "source": [
    "def filter_time(n_state, n_meas):\n",
    "    mu_state_past = rand_vec(n_state)\n",
    "    var_state_past = rand_mat(n_state)\n",
    "    mu_state = rand_vec(n_state)\n",
    "    wgt_state = rand_mat(n_state, pd=False)\n",
    "    var_state = rand_mat(n_state)\n",
    "    x_meas = rand_vec(n_meas)\n",
    "    mu_meas = rand_vec(n_meas)\n",
    "    wgt_meas = rand_mat(n_meas, n_state, pd=False)\n",
    "    var_meas = rand_mat(n_meas)\n",
    "    loops = max(1, int(10000/n_state))\n",
    "    start = time.time()\n",
    "    for i in range(loops):\n",
    "        mu_state_pred, var_state_pred = (\n",
    "            pks._filter_predict(\n",
    "                wgt_state, var_state,\n",
    "                mu_state, mu_state_past,\n",
    "                var_state_past\n",
    "                )\n",
    "        )\n",
    "        _, mu_state_filt, var_state_filt = (\n",
    "            pks._filter_correct(\n",
    "                wgt_meas, var_meas,\n",
    "                mu_meas, mu_state_pred,\n",
    "                var_state_pred, x_meas\n",
    "                )\n",
    "            )\n",
    "    end = time.time()\n",
    "    pyk_time = (end - start)/loops\n",
    "    ktv = KalmanTV_c(n_meas, n_state)\n",
    "    mu_state_pred2 = np.empty(n_state)\n",
    "    var_state_pred2 = np.empty((n_state, n_state), order='F')\n",
    "    mu_state_filt2 = np.empty(n_state)\n",
    "    var_state_filt2 = np.empty((n_state, n_state), order='F')\n",
    "    start = time.time()\n",
    "    for i in range(loops):\n",
    "        ktv.filter(mu_state_pred2, var_state_pred2,\n",
    "               mu_state_filt2, var_state_filt2,\n",
    "               mu_state_past, var_state_past,\n",
    "               mu_state, wgt_state, var_state,\n",
    "               x_meas, mu_meas, wgt_meas, var_meas)\n",
    "    end = time.time()\n",
    "    ktv_time = (end - start)/loops\n",
    "    ktv = KalmanTV(n_meas, n_state)\n",
    "    mu_state_pred2 = np.empty(n_state)\n",
    "    var_state_pred2 = np.empty((n_state, n_state), order='F')\n",
    "    mu_state_filt2 = np.empty(n_state)\n",
    "    var_state_filt2 = np.empty((n_state, n_state), order='F')\n",
    "    start = time.time()\n",
    "    for i in range(loops):\n",
    "        ktv.filter(mu_state_pred2, var_state_pred2,\n",
    "               mu_state_filt2, var_state_filt2,\n",
    "               mu_state_past, var_state_past,\n",
    "               mu_state, wgt_state, var_state,\n",
    "               x_meas, mu_meas, wgt_meas, var_meas)\n",
    "    end = time.time()\n",
    "    ktv_time2 = (end - start)/loops\n",
    "    return pyk_time, ktv_time, ktv_time2"
   ]
  },
  {
   "cell_type": "code",
   "execution_count": 10,
   "metadata": {},
   "outputs": [
    {
     "name": "stdout",
     "output_type": "stream",
     "text": [
      "py/cy:2.05470803038422\n",
      "py/c:5.902690208036198\n"
     ]
    }
   ],
   "source": [
    "n_meas = 1\n",
    "n_state = 4\n",
    "t1, t2, t3 = filter_time(n_state, n_meas)\n",
    "print(\"py/cy:{}\".format(t1/t3))\n",
    "print(\"py/c:{}\".format(t1/t2))"
   ]
  },
  {
   "cell_type": "code",
   "execution_count": 11,
   "metadata": {},
   "outputs": [
    {
     "name": "stdout",
     "output_type": "stream",
     "text": [
      "py/cy:2.9633450982589156\n",
      "py/c:7.501674296204666\n"
     ]
    }
   ],
   "source": [
    "n_meas = 3\n",
    "n_state = 6\n",
    "t1, t2, t3 = filter_time(n_state, n_meas)\n",
    "print(\"py/cy:{}\".format(t1/t3))\n",
    "print(\"py/c:{}\".format(t1/t2))"
   ]
  },
  {
   "cell_type": "code",
   "execution_count": 12,
   "metadata": {},
   "outputs": [
    {
     "name": "stdout",
     "output_type": "stream",
     "text": [
      "py/cy:3.1285084338710023\n",
      "py/c:0.48692980645041745\n"
     ]
    }
   ],
   "source": [
    "n_meas = 500\n",
    "n_state = 1000\n",
    "t1, t2, t3 = filter_time(n_state, n_meas)\n",
    "print(\"py/cy:{}\".format(t1/t3))\n",
    "print(\"py/c:{}\".format(t1/t2))"
   ]
  },
  {
   "cell_type": "markdown",
   "metadata": {},
   "source": [
    "## Pure **pykalman** Test"
   ]
  },
  {
   "cell_type": "code",
   "execution_count": null,
   "metadata": {},
   "outputs": [],
   "source": [
    "from pykalman import standard as pks\n",
    "import time\n",
    "import numpy as np\n",
    "\n",
    "def rand_vec(n):\n",
    "    \"\"\"Generate a random vector.\"\"\"\n",
    "    return np.random.randn(n)\n",
    "\n",
    "def rand_mat(n, p=None, pd=True):\n",
    "    \"\"\"Generate a random matrix, positive definite if `pd = True`.\"\"\"\n",
    "    if p is None:\n",
    "        p = n\n",
    "    V = np.zeros((n, p), order='F')\n",
    "    V[:] = np.random.randn(n, p)\n",
    "    if (p == n) & pd:\n",
    "        V[:] = np.matmul(V, V.T)\n",
    "    return V"
   ]
  },
  {
   "cell_type": "code",
   "execution_count": null,
   "metadata": {},
   "outputs": [],
   "source": [
    "# problem dimensions\n",
    "n_meas = 10\n",
    "n_state = 2000\n",
    "n_reps = 50\n",
    "\n",
    "# simulate inputs\n",
    "start = time.time()\n",
    "mu_state_past = rand_vec(n_state)\n",
    "var_state_past = rand_mat(n_state)\n",
    "mu_state = rand_vec(n_state)\n",
    "wgt_state = rand_mat(n_state, pd=False)\n",
    "var_state = rand_mat(n_state)\n",
    "x_meas = rand_vec(n_meas)\n",
    "mu_meas = rand_vec(n_meas)\n",
    "wgt_meas = rand_mat(n_meas, n_state, pd=False)\n",
    "var_meas = rand_mat(n_meas)\n",
    "end = time.time()\n",
    "end - start"
   ]
  },
  {
   "cell_type": "code",
   "execution_count": null,
   "metadata": {},
   "outputs": [],
   "source": [
    "start = time.time()\n",
    "for ii in range(n_reps):\n",
    "    mu_state_pred, var_state_pred = (\n",
    "        pks._filter_predict(\n",
    "            wgt_state, var_state,\n",
    "            mu_state, mu_state_past,\n",
    "            var_state_past\n",
    "        )\n",
    "    )\n",
    "    _, mu_state_filt, var_state_filt = (\n",
    "        pks._filter_correct(\n",
    "            wgt_meas, var_meas,\n",
    "            mu_meas, mu_state_pred,\n",
    "            var_state_pred, x_meas\n",
    "        )\n",
    "    )\n",
    "end = time.time()\n",
    "end - start"
   ]
  },
  {
   "cell_type": "code",
   "execution_count": null,
   "metadata": {},
   "outputs": [],
   "source": [
    "np.show_config()"
   ]
  }
 ],
 "metadata": {
  "kernelspec": {
   "display_name": "Python 3",
   "language": "python",
   "name": "python3"
  },
  "language_info": {
   "codemirror_mode": {
    "name": "ipython",
    "version": 3
   },
   "file_extension": ".py",
   "mimetype": "text/x-python",
   "name": "python",
   "nbconvert_exporter": "python",
   "pygments_lexer": "ipython3",
   "version": "3.7.3"
  }
 },
 "nbformat": 4,
 "nbformat_minor": 2
}
