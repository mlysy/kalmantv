{
 "cells": [
  {
   "cell_type": "code",
   "execution_count": 1,
   "metadata": {},
   "outputs": [],
   "source": [
    "#from kalmantv.cython import KalmanTV\n",
    "from kalmantv.kalmantv_blas import KalmanTV\n",
    "from KalmanTV import KalmanTV as KTV_py\n",
    "from pykalman import standard as pks\n",
    "import time\n",
    "import numpy as np"
   ]
  },
  {
   "cell_type": "code",
   "execution_count": 2,
   "metadata": {},
   "outputs": [],
   "source": [
    "%load_ext Cython"
   ]
  },
  {
   "cell_type": "code",
   "execution_count": 3,
   "metadata": {},
   "outputs": [],
   "source": [
    "def rand_vec(n):\n",
    "    \"\"\"Generate a random vector.\"\"\"\n",
    "    return np.random.randn(n)\n",
    "\n",
    "def rand_mat(n, p=None, pd=True):\n",
    "    \"\"\"Generate a random matrix, positive definite if `pd = True`.\"\"\"\n",
    "    if p is None:\n",
    "        p = n\n",
    "    V = np.zeros((n, p), order='F')\n",
    "    V[:] = np.random.randn(n, p)\n",
    "    if (p == n) & pd:\n",
    "        V[:] = np.matmul(V, V.T)\n",
    "    return V"
   ]
  },
  {
   "cell_type": "code",
   "execution_count": 4,
   "metadata": {},
   "outputs": [],
   "source": [
    "def filter_time(n_state, n_meas):\n",
    "    mu_state_past = rand_vec(n_state)\n",
    "    var_state_past = rand_mat(n_state)\n",
    "    mu_state = rand_vec(n_state)\n",
    "    wgt_state = rand_mat(n_state, pd=False)\n",
    "    var_state = rand_mat(n_state)\n",
    "    x_meas = rand_vec(n_meas)\n",
    "    mu_meas = rand_vec(n_meas)\n",
    "    wgt_meas = rand_mat(n_meas, n_state, pd=False)\n",
    "    var_meas = rand_mat(n_meas)\n",
    "    loops = max(1, int(10000/n_state))\n",
    "    start = time.time()\n",
    "    for i in range(loops):\n",
    "        mu_state_pred, var_state_pred = (\n",
    "            pks._filter_predict(\n",
    "                wgt_state, var_state,\n",
    "                mu_state, mu_state_past,\n",
    "                var_state_past\n",
    "                )\n",
    "        )\n",
    "        _, mu_state_filt, var_state_filt = (\n",
    "            pks._filter_correct(\n",
    "                wgt_meas, var_meas,\n",
    "                mu_meas, mu_state_pred,\n",
    "                var_state_pred, x_meas\n",
    "                )\n",
    "            )\n",
    "    end = time.time()\n",
    "    pyk_time = (end - start)/loops\n",
    "    \n",
    "    ktv = KalmanTV(n_meas, n_state)\n",
    "    mu_state_pred2 = np.empty(n_state)\n",
    "    var_state_pred2 = np.empty((n_state, n_state), order='F')\n",
    "    mu_state_filt2 = np.empty(n_state)\n",
    "    var_state_filt2 = np.empty((n_state, n_state), order='F')\n",
    "    start = time.time()\n",
    "    for i in range(loops):\n",
    "        ktv.filter(mu_state_pred2, var_state_pred2,\n",
    "               mu_state_filt2, var_state_filt2,\n",
    "               mu_state_past, var_state_past,\n",
    "               mu_state, wgt_state, var_state,\n",
    "               x_meas, mu_meas, wgt_meas, var_meas)\n",
    "    end = time.time()\n",
    "    ktv_time = (end - start)/loops\n",
    "    return pyk_time, ktv_time"
   ]
  },
  {
   "cell_type": "code",
   "execution_count": 5,
   "metadata": {},
   "outputs": [],
   "source": [
    "n_meas = 100\n",
    "n_state = 2000"
   ]
  },
  {
   "cell_type": "code",
   "execution_count": 6,
   "metadata": {},
   "outputs": [
    {
     "data": {
      "text/plain": [
       "(0.5403236865997314, 0.31964821815490724)"
      ]
     },
     "execution_count": 6,
     "metadata": {},
     "output_type": "execute_result"
    }
   ],
   "source": [
    "filter_time(n_state, n_meas)"
   ]
  },
  {
   "cell_type": "code",
   "execution_count": 7,
   "metadata": {},
   "outputs": [
    {
     "data": {
      "text/plain": [
       "(0.0014026260375976562, 0.0005384969711303711)"
      ]
     },
     "execution_count": 7,
     "metadata": {},
     "output_type": "execute_result"
    }
   ],
   "source": [
    "n_meas = 10\n",
    "n_state = 200\n",
    "filter_time(n_state, n_meas)"
   ]
  }
 ],
 "metadata": {
  "kernelspec": {
   "display_name": "Python 3",
   "language": "python",
   "name": "python3"
  },
  "language_info": {
   "codemirror_mode": {
    "name": "ipython",
    "version": 3
   },
   "file_extension": ".py",
   "mimetype": "text/x-python",
   "name": "python",
   "nbconvert_exporter": "python",
   "pygments_lexer": "ipython3",
   "version": "3.7.3"
  }
 },
 "nbformat": 4,
 "nbformat_minor": 2
}
